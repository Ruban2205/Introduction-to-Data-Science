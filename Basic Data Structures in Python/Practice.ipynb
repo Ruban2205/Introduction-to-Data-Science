{
 "cells": [
  {
   "cell_type": "code",
   "execution_count": 1,
   "id": "0e56b20e",
   "metadata": {},
   "outputs": [
    {
     "name": "stdout",
     "output_type": "stream",
     "text": [
      "Enter your name: ruban gino singh\n",
      "RUBAN GINO SINGH\n"
     ]
    }
   ],
   "source": [
    "# Write a python program to convert your name from lowercase to uppercase\n",
    "\n",
    "name = input(\"Enter your name: \")\n",
    "print(\"The Capitalize of the given name is\", name.upper())\n"
   ]
  },
  {
   "cell_type": "code",
   "execution_count": 2,
   "id": "b5431524",
   "metadata": {},
   "outputs": [
    {
     "name": "stdout",
     "output_type": "stream",
     "text": [
      "Enter the word: ruban\n",
      "The length of the given word is:  5\n"
     ]
    }
   ],
   "source": [
    "# Count the number of letters in the given word \n",
    "\n",
    "word = input(\"Enter the word: \")\n",
    "print(\"The length of the given word is: \", len(word))"
   ]
  },
  {
   "cell_type": "code",
   "execution_count": 11,
   "id": "8c960992",
   "metadata": {},
   "outputs": [
    {
     "name": "stdout",
     "output_type": "stream",
     "text": [
      "Enter the word: ruban gino singh\n",
      "u 1\n",
      "a 3\n",
      "i 7\n",
      "o 9\n",
      "i 12\n",
      "The number of vowels from the given word is:  5\n"
     ]
    }
   ],
   "source": [
    "# Count the number of vowels from the given subject\n",
    "\n",
    "word = input(\"Enter the word: \")\n",
    "\n",
    "vowels = 0\n",
    "\n",
    "for i in range(len(word)):\n",
    "    if word[i] in \"aeiouAEIOU\":\n",
    "        vowels = vowels + 1\n",
    "        print(word[i], i)\n",
    "            \n",
    "print(\"The number of vowels from the given word is: \", vowels)\n"
   ]
  },
  {
   "cell_type": "code",
   "execution_count": 9,
   "id": "52a81a91",
   "metadata": {},
   "outputs": [
    {
     "name": "stdout",
     "output_type": "stream",
     "text": [
      "Enter the word: ruban gino singh\n",
      "Enter the letter to identify: g\n",
      "Letter  g  is there in the given word\n"
     ]
    }
   ],
   "source": [
    "# Identify the specific letters from the given word\n",
    "\n",
    "word = input(\"Enter the word: \")\n",
    "letter_to_identify = input(\"Enter the letter to identify: \")\n",
    "\n",
    "for i in word: \n",
    "    if i == letter_to_identify:\n",
    "        print(\"Letter \", i, \" is there in the given word\")\n",
    "        break \n",
    "        "
   ]
  },
  {
   "cell_type": "code",
   "execution_count": 16,
   "id": "52e2b837",
   "metadata": {
    "scrolled": true
   },
   "outputs": [
    {
     "name": "stdout",
     "output_type": "stream",
     "text": [
      "Enter the word: Hello this is ruban\n",
      "\n",
      "The reversed String is: \n",
      "ruban is this Hello\n"
     ]
    }
   ],
   "source": [
    "# Python program to reverse the string from the given word.\n",
    "\n",
    "# word = input(\"Enter the word: \")\n",
    "# print(\"The reversed String is: \", word[::-1])\n",
    "\n",
    "word = input(\"Enter the word: \")\n",
    "\n",
    "print(\"\\nThe reversed String is: \")\n",
    "\n",
    "string = word.split()[::-1]\n",
    "lst = []\n",
    "\n",
    "for i in string: \n",
    "    lst.append(i)\n",
    "print(\" \".join(lst))\n"
   ]
  },
  {
   "cell_type": "code",
   "execution_count": 22,
   "id": "4e3c18d3",
   "metadata": {},
   "outputs": [
    {
     "name": "stdout",
     "output_type": "stream",
     "text": [
      "Enter the string: hello i am ruban from karunya \n",
      "Hello I Am Ruban From Karunya  \n"
     ]
    }
   ],
   "source": [
    "# Convert the meaning full letter into capatilize\n",
    "\n",
    "word = input(\"Enter the string: \")\n",
    "\n",
    "lst = word.split(\" \")\n",
    "string = \"\"\n",
    "\n",
    "for i in lst: \n",
    "    string += (i.capitalize() + \" \")\n",
    "print(string)"
   ]
  },
  {
   "cell_type": "code",
   "execution_count": null,
   "id": "b5fbfa64",
   "metadata": {},
   "outputs": [],
   "source": [
    "# Find the mean, median, and mode of given numbers.\n",
    "\n",
    "numbers = int(input(\"Enter the numbers: \").split())\n"
   ]
  }
 ],
 "metadata": {
  "kernelspec": {
   "display_name": "Python 3",
   "language": "python",
   "name": "python3"
  },
  "language_info": {
   "codemirror_mode": {
    "name": "ipython",
    "version": 3
   },
   "file_extension": ".py",
   "mimetype": "text/x-python",
   "name": "python",
   "nbconvert_exporter": "python",
   "pygments_lexer": "ipython3",
   "version": "3.6.8"
  }
 },
 "nbformat": 4,
 "nbformat_minor": 5
}
